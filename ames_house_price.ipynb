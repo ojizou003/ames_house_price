{
 "cells": [
  {
   "cell_type": "code",
   "execution_count": 196,
   "metadata": {},
   "outputs": [],
   "source": [
    "import numpy as np\n",
    "import pandas as pd\n",
    "import matplotlib.pyplot as plt\n",
    "import japanize_matplotlib\n",
    "import seaborn as sns"
   ]
  },
  {
   "cell_type": "code",
   "execution_count": 197,
   "metadata": {},
   "outputs": [],
   "source": [
    "from sklearn.preprocessing import LabelEncoder\n",
    "from sklearn.preprocessing import StandardScaler\n",
    "from sklearn.metrics import mean_squared_error as MSE"
   ]
  },
  {
   "cell_type": "code",
   "execution_count": 198,
   "metadata": {},
   "outputs": [],
   "source": [
    "from sklearn.model_selection import train_test_split\n",
    "from sklearn.model_selection import KFold"
   ]
  },
  {
   "cell_type": "code",
   "execution_count": 199,
   "metadata": {},
   "outputs": [],
   "source": [
    "import xgboost as xgb\n",
    "from sklearn.linear_model import SGDRegressor\n",
    "from sklearn.ensemble import RandomForestRegressor\n",
    "from sklearn.linear_model import LinearRegression"
   ]
  },
  {
   "cell_type": "code",
   "execution_count": 200,
   "metadata": {},
   "outputs": [],
   "source": [
    "train = pd.read_csv('train.csv', index_col='index')\n",
    "test = pd.read_csv('test.csv', index_col='index')\n",
    "sample = pd.read_csv('sample_submit.csv',index_col=[0], header=None)"
   ]
  },
  {
   "cell_type": "code",
   "execution_count": 201,
   "metadata": {},
   "outputs": [],
   "source": [
    "all = pd.concat([train, test])"
   ]
  },
  {
   "cell_type": "code",
   "execution_count": 202,
   "metadata": {},
   "outputs": [
    {
     "data": {
      "text/plain": [
       "Index(['Order', 'MS SubClass', 'MS Zoning', 'Lot Area', 'Lot Shape',\n",
       "       'Land Contour', 'Lot Config', 'Neighborhood', 'Bldg Type',\n",
       "       'House Style', 'Overall Qual', 'Overall Cond', 'Year Built',\n",
       "       'Year Remod/Add', 'Roof Style', 'Exterior 1st', 'Exterior 2nd',\n",
       "       'Exter Qual', 'Foundation', 'BsmtFin SF 1', 'Bsmt Unf SF',\n",
       "       'Total Bsmt SF', 'Heating QC', 'Central Air', 'Electrical',\n",
       "       '1st Flr SF', '2nd Flr SF', 'Gr Liv Area', 'Bsmt Full Bath',\n",
       "       'Full Bath', 'Half Bath', 'Bedroom AbvGr', 'Kitchen AbvGr',\n",
       "       'Kitchen Qual', 'TotRms AbvGrd', 'Fireplaces', 'Garage Cars',\n",
       "       'Garage Area', 'Paved Drive', 'Wood Deck SF', 'Open Porch SF',\n",
       "       'Mo Sold', 'Yr Sold', 'Sale Type', 'Sale Condition', 'SalePrice'],\n",
       "      dtype='object')"
      ]
     },
     "execution_count": 202,
     "metadata": {},
     "output_type": "execute_result"
    }
   ],
   "source": [
    "train.columns"
   ]
  },
  {
   "cell_type": "code",
   "execution_count": 203,
   "metadata": {},
   "outputs": [
    {
     "name": "stdout",
     "output_type": "stream",
     "text": [
      "<class 'pandas.core.frame.DataFrame'>\n",
      "Index: 3000 entries, 200 to 2732\n",
      "Data columns (total 46 columns):\n",
      " #   Column          Non-Null Count  Dtype  \n",
      "---  ------          --------------  -----  \n",
      " 0   Order           3000 non-null   int64  \n",
      " 1   MS SubClass     3000 non-null   int64  \n",
      " 2   MS Zoning       3000 non-null   object \n",
      " 3   Lot Area        3000 non-null   int64  \n",
      " 4   Lot Shape       3000 non-null   object \n",
      " 5   Land Contour    3000 non-null   object \n",
      " 6   Lot Config      3000 non-null   object \n",
      " 7   Neighborhood    3000 non-null   object \n",
      " 8   Bldg Type       3000 non-null   object \n",
      " 9   House Style     3000 non-null   object \n",
      " 10  Overall Qual    3000 non-null   int64  \n",
      " 11  Overall Cond    3000 non-null   int64  \n",
      " 12  Year Built      3000 non-null   int64  \n",
      " 13  Year Remod/Add  3000 non-null   int64  \n",
      " 14  Roof Style      3000 non-null   object \n",
      " 15  Exterior 1st    3000 non-null   object \n",
      " 16  Exterior 2nd    3000 non-null   object \n",
      " 17  Exter Qual      3000 non-null   object \n",
      " 18  Foundation      3000 non-null   object \n",
      " 19  BsmtFin SF 1    3000 non-null   float64\n",
      " 20  Bsmt Unf SF     3000 non-null   float64\n",
      " 21  Total Bsmt SF   3000 non-null   float64\n",
      " 22  Heating QC      3000 non-null   object \n",
      " 23  Central Air     3000 non-null   object \n",
      " 24  Electrical      3000 non-null   object \n",
      " 25  1st Flr SF      3000 non-null   int64  \n",
      " 26  2nd Flr SF      3000 non-null   int64  \n",
      " 27  Gr Liv Area     3000 non-null   int64  \n",
      " 28  Bsmt Full Bath  3000 non-null   float64\n",
      " 29  Full Bath       3000 non-null   int64  \n",
      " 30  Half Bath       3000 non-null   int64  \n",
      " 31  Bedroom AbvGr   3000 non-null   int64  \n",
      " 32  Kitchen AbvGr   3000 non-null   int64  \n",
      " 33  Kitchen Qual    3000 non-null   object \n",
      " 34  TotRms AbvGrd   3000 non-null   int64  \n",
      " 35  Fireplaces      3000 non-null   int64  \n",
      " 36  Garage Cars     3000 non-null   float64\n",
      " 37  Garage Area     3000 non-null   float64\n",
      " 38  Paved Drive     3000 non-null   object \n",
      " 39  Wood Deck SF    3000 non-null   int64  \n",
      " 40  Open Porch SF   3000 non-null   int64  \n",
      " 41  Mo Sold         3000 non-null   int64  \n",
      " 42  Yr Sold         3000 non-null   int64  \n",
      " 43  Sale Type       3000 non-null   object \n",
      " 44  Sale Condition  3000 non-null   object \n",
      " 45  SalePrice       3000 non-null   int64  \n",
      "dtypes: float64(6), int64(21), object(19)\n",
      "memory usage: 1.1+ MB\n"
     ]
    }
   ],
   "source": [
    "train.info()"
   ]
  },
  {
   "cell_type": "code",
   "execution_count": 204,
   "metadata": {},
   "outputs": [
    {
     "data": {
      "text/plain": [
       "SalePrice         1.000000\n",
       "Full Bath         0.293996\n",
       "Year Built        0.221131\n",
       "Garage Cars       0.210248\n",
       "Gr Liv Area       0.201057\n",
       "Garage Area       0.190580\n",
       "Overall Qual      0.149422\n",
       "Total Bsmt SF     0.134633\n",
       "Half Bath         0.130738\n",
       "Year Remod/Add    0.130724\n",
       "Fireplaces        0.120770\n",
       "Bsmt Full Bath    0.107504\n",
       "1st Flr SF        0.102831\n",
       "Bsmt Unf SF       0.097631\n",
       "BsmtFin SF 1      0.086038\n",
       "Lot Area          0.075765\n",
       "Open Porch SF     0.064211\n",
       "2nd Flr SF        0.034164\n",
       "Order             0.033780\n",
       "Wood Deck SF      0.031295\n",
       "TotRms AbvGrd     0.027719\n",
       "MS SubClass       0.024983\n",
       "Mo Sold           0.005314\n",
       "Kitchen AbvGr    -0.017277\n",
       "Yr Sold          -0.030169\n",
       "Bedroom AbvGr    -0.051785\n",
       "Overall Cond     -0.053452\n",
       "dtype: float64"
      ]
     },
     "execution_count": 204,
     "metadata": {},
     "output_type": "execute_result"
    }
   ],
   "source": [
    "train.select_dtypes(['int64','float64']).corrwith(train['SalePrice']).sort_values(ascending=False)"
   ]
  },
  {
   "cell_type": "code",
   "execution_count": 205,
   "metadata": {},
   "outputs": [
    {
     "data": {
      "text/html": [
       "<div>\n",
       "<style scoped>\n",
       "    .dataframe tbody tr th:only-of-type {\n",
       "        vertical-align: middle;\n",
       "    }\n",
       "\n",
       "    .dataframe tbody tr th {\n",
       "        vertical-align: top;\n",
       "    }\n",
       "\n",
       "    .dataframe thead th {\n",
       "        text-align: right;\n",
       "    }\n",
       "</style>\n",
       "<table border=\"1\" class=\"dataframe\">\n",
       "  <thead>\n",
       "    <tr style=\"text-align: right;\">\n",
       "      <th></th>\n",
       "      <th>MS Zoning</th>\n",
       "      <th>Lot Shape</th>\n",
       "      <th>Land Contour</th>\n",
       "      <th>Lot Config</th>\n",
       "      <th>Neighborhood</th>\n",
       "      <th>Bldg Type</th>\n",
       "      <th>House Style</th>\n",
       "      <th>Roof Style</th>\n",
       "      <th>Exterior 1st</th>\n",
       "      <th>Exterior 2nd</th>\n",
       "      <th>Exter Qual</th>\n",
       "      <th>Foundation</th>\n",
       "      <th>Heating QC</th>\n",
       "      <th>Central Air</th>\n",
       "      <th>Electrical</th>\n",
       "      <th>Kitchen Qual</th>\n",
       "      <th>Paved Drive</th>\n",
       "      <th>Sale Type</th>\n",
       "      <th>Sale Condition</th>\n",
       "    </tr>\n",
       "  </thead>\n",
       "  <tbody>\n",
       "    <tr>\n",
       "      <th>count</th>\n",
       "      <td>3000</td>\n",
       "      <td>3000</td>\n",
       "      <td>3000</td>\n",
       "      <td>3000</td>\n",
       "      <td>3000</td>\n",
       "      <td>3000</td>\n",
       "      <td>3000</td>\n",
       "      <td>3000</td>\n",
       "      <td>3000</td>\n",
       "      <td>3000</td>\n",
       "      <td>3000</td>\n",
       "      <td>3000</td>\n",
       "      <td>3000</td>\n",
       "      <td>3000</td>\n",
       "      <td>3000</td>\n",
       "      <td>3000</td>\n",
       "      <td>3000</td>\n",
       "      <td>3000</td>\n",
       "      <td>3000</td>\n",
       "    </tr>\n",
       "    <tr>\n",
       "      <th>unique</th>\n",
       "      <td>3</td>\n",
       "      <td>2</td>\n",
       "      <td>2</td>\n",
       "      <td>3</td>\n",
       "      <td>22</td>\n",
       "      <td>5</td>\n",
       "      <td>5</td>\n",
       "      <td>2</td>\n",
       "      <td>8</td>\n",
       "      <td>8</td>\n",
       "      <td>3</td>\n",
       "      <td>4</td>\n",
       "      <td>3</td>\n",
       "      <td>2</td>\n",
       "      <td>3</td>\n",
       "      <td>3</td>\n",
       "      <td>2</td>\n",
       "      <td>2</td>\n",
       "      <td>2</td>\n",
       "    </tr>\n",
       "    <tr>\n",
       "      <th>top</th>\n",
       "      <td>RL</td>\n",
       "      <td>Reg</td>\n",
       "      <td>Lvl</td>\n",
       "      <td>Inside</td>\n",
       "      <td>NAmes</td>\n",
       "      <td>1Fam</td>\n",
       "      <td>1Story</td>\n",
       "      <td>Gable</td>\n",
       "      <td>VinylSd</td>\n",
       "      <td>VinylSd</td>\n",
       "      <td>TA</td>\n",
       "      <td>CBlock</td>\n",
       "      <td>Ex</td>\n",
       "      <td>Y</td>\n",
       "      <td>SBrkr</td>\n",
       "      <td>TA</td>\n",
       "      <td>Y</td>\n",
       "      <td>WD</td>\n",
       "      <td>Normal</td>\n",
       "    </tr>\n",
       "    <tr>\n",
       "      <th>freq</th>\n",
       "      <td>2791</td>\n",
       "      <td>2444</td>\n",
       "      <td>2983</td>\n",
       "      <td>2981</td>\n",
       "      <td>1155</td>\n",
       "      <td>2824</td>\n",
       "      <td>2051</td>\n",
       "      <td>2932</td>\n",
       "      <td>1989</td>\n",
       "      <td>1972</td>\n",
       "      <td>2285</td>\n",
       "      <td>1482</td>\n",
       "      <td>2030</td>\n",
       "      <td>2983</td>\n",
       "      <td>2981</td>\n",
       "      <td>2040</td>\n",
       "      <td>2999</td>\n",
       "      <td>2918</td>\n",
       "      <td>2931</td>\n",
       "    </tr>\n",
       "  </tbody>\n",
       "</table>\n",
       "</div>"
      ],
      "text/plain": [
       "       MS Zoning Lot Shape Land Contour Lot Config Neighborhood Bldg Type  \\\n",
       "count       3000      3000         3000       3000         3000      3000   \n",
       "unique         3         2            2          3           22         5   \n",
       "top           RL       Reg          Lvl     Inside        NAmes      1Fam   \n",
       "freq        2791      2444         2983       2981         1155      2824   \n",
       "\n",
       "       House Style Roof Style Exterior 1st Exterior 2nd Exter Qual Foundation  \\\n",
       "count         3000       3000         3000         3000       3000       3000   \n",
       "unique           5          2            8            8          3          4   \n",
       "top         1Story      Gable      VinylSd      VinylSd         TA     CBlock   \n",
       "freq          2051       2932         1989         1972       2285       1482   \n",
       "\n",
       "       Heating QC Central Air Electrical Kitchen Qual Paved Drive Sale Type  \\\n",
       "count        3000        3000       3000         3000        3000      3000   \n",
       "unique          3           2          3            3           2         2   \n",
       "top            Ex           Y      SBrkr           TA           Y       WD    \n",
       "freq         2030        2983       2981         2040        2999      2918   \n",
       "\n",
       "       Sale Condition  \n",
       "count            3000  \n",
       "unique              2  \n",
       "top            Normal  \n",
       "freq             2931  "
      ]
     },
     "execution_count": 205,
     "metadata": {},
     "output_type": "execute_result"
    }
   ],
   "source": [
    "train.describe(include='O')"
   ]
  },
  {
   "cell_type": "code",
   "execution_count": 206,
   "metadata": {},
   "outputs": [
    {
     "data": {
      "text/plain": [
       "House Style\n",
       "1Story    2051\n",
       "2Story     691\n",
       "1.5Fin     142\n",
       "SLvl        84\n",
       "SFoyer      32\n",
       "Name: count, dtype: int64"
      ]
     },
     "execution_count": 206,
     "metadata": {},
     "output_type": "execute_result"
    }
   ],
   "source": [
    "train['House Style'].value_counts()"
   ]
  },
  {
   "cell_type": "code",
   "execution_count": 207,
   "metadata": {},
   "outputs": [
    {
     "data": {
      "text/plain": [
       "array([1.        , 0.06825603])"
      ]
     },
     "execution_count": 207,
     "metadata": {},
     "output_type": "execute_result"
    }
   ],
   "source": [
    "np.corrcoef(train['SalePrice'], train['House Style'].astype('category').cat.codes)[0]"
   ]
  },
  {
   "cell_type": "code",
   "execution_count": 208,
   "metadata": {},
   "outputs": [
    {
     "data": {
      "image/png": "[encoded data removed]",
      "text/plain": [
       "<Figure size 640x480 with 1 Axes>"
      ]
     },
     "metadata": {},
     "output_type": "display_data"
    }
   ],
   "source": [
    "sns.barplot(train['SalePrice'].groupby(train['Year Built']).mean())\n",
    "plt.xticks(rotation=90);"
   ]
  },
  {
   "cell_type": "code",
   "execution_count": 209,
   "metadata": {},
   "outputs": [
    {
     "data": {
      "image/png": "[encoded data removed]",
      "text/plain": [
       "<Figure size 640x480 with 1 Axes>"
      ]
     },
     "metadata": {},
     "output_type": "display_data"
    }
   ],
   "source": [
    "sns.boxplot(data = train, x='Bldg Type', y='SalePrice')\n",
    "plt.xticks(rotation=45);"
   ]
  },
  {
   "cell_type": "code",
   "execution_count": 210,
   "metadata": {},
   "outputs": [
    {
     "data": {
      "text/plain": [
       "Bldg Type\n",
       "1Fam      150448.415722\n",
       "2fmCon    121470.588235\n",
       "Duplex    137653.846154\n",
       "Twnhs     144527.777778\n",
       "TwnhsE    156209.278351\n",
       "Name: SalePrice, dtype: float64"
      ]
     },
     "execution_count": 210,
     "metadata": {},
     "output_type": "execute_result"
    }
   ],
   "source": [
    "train['SalePrice'].groupby(train['Bldg Type']).mean()"
   ]
  },
  {
   "cell_type": "code",
   "execution_count": 211,
   "metadata": {},
   "outputs": [],
   "source": [
    "# allの使用予定のカテゴリ変数変換\n",
    "all['Exter Qual']=all['Exter Qual'].apply(lambda x: 1 if x=='Gd' else 0)\n",
    "all['Land Contour']=all['Land Contour'].apply(lambda x: 0 if x=='Bnk' else 1)\n",
    "all['Central Air']=all['Central Air'].apply(lambda x: 0 if x=='N' else 1)"
   ]
  },
  {
   "cell_type": "code",
   "execution_count": 212,
   "metadata": {},
   "outputs": [],
   "source": [
    "# 外れ値のレコードを削除\n",
    "all = all[~((all['House Style'] == '1Story') & (all['SalePrice'] >= 350000))]\n",
    "all = all[~((all['Full Bath'] == 2) & (all['SalePrice'] >= 300000))]\n",
    "all = all[~((all['Bldg Type'] == 2) & (all['SalePrice'] >= 275000))]"
   ]
  },
  {
   "cell_type": "code",
   "execution_count": 213,
   "metadata": {},
   "outputs": [],
   "source": [
    "# ラベルエンコード\n",
    "le = LabelEncoder()\n",
    "le.fit(all['Bldg Type'])\n",
    "all['Bldg Type'] = le.transform(all['Bldg Type'])"
   ]
  },
  {
   "cell_type": "code",
   "execution_count": 214,
   "metadata": {},
   "outputs": [],
   "source": [
    "le.fit(all['Foundation'])\n",
    "all['Foundation'] = le.transform(all['Foundation'])"
   ]
  },
  {
   "cell_type": "code",
   "execution_count": 215,
   "metadata": {},
   "outputs": [],
   "source": [
    "le.fit(all['Neighborhood'])\n",
    "all['Neighborhood'] = le.transform(all['Neighborhood'])"
   ]
  },
  {
   "cell_type": "code",
   "execution_count": 216,
   "metadata": {},
   "outputs": [],
   "source": [
    "le.fit(all['Year Built'])\n",
    "all['Year Built'] = le.transform(all['Year Built'])"
   ]
  },
  {
   "cell_type": "code",
   "execution_count": 217,
   "metadata": {},
   "outputs": [],
   "source": [
    "# オブジェクトカラムをダミー変数化\n",
    "all = pd.get_dummies(all)"
   ]
  },
  {
   "cell_type": "code",
   "execution_count": 218,
   "metadata": {},
   "outputs": [
    {
     "data": {
      "text/plain": [
       "Index(['Order', 'MS SubClass', 'Lot Area', 'Land Contour', 'Neighborhood',\n",
       "       'Bldg Type', 'Overall Qual', 'Overall Cond', 'Year Built',\n",
       "       'Year Remod/Add', 'Exter Qual', 'Foundation', 'BsmtFin SF 1',\n",
       "       'Bsmt Unf SF', 'Total Bsmt SF', 'Central Air', '1st Flr SF',\n",
       "       '2nd Flr SF', 'Gr Liv Area', 'Bsmt Full Bath', 'Full Bath', 'Half Bath',\n",
       "       'Bedroom AbvGr', 'Kitchen AbvGr', 'TotRms AbvGrd', 'Fireplaces',\n",
       "       'Garage Cars', 'Garage Area', 'Wood Deck SF', 'Open Porch SF',\n",
       "       'Mo Sold', 'Yr Sold', 'SalePrice', 'MS Zoning_FV', 'MS Zoning_RL',\n",
       "       'MS Zoning_RM', 'Lot Shape_IR1', 'Lot Shape_Reg', 'Lot Config_Corner',\n",
       "       'Lot Config_CulDSac', 'Lot Config_Inside', 'House Style_1.5Fin',\n",
       "       'House Style_1Story', 'House Style_2Story', 'House Style_SFoyer',\n",
       "       'House Style_SLvl', 'Roof Style_Gable', 'Roof Style_Hip',\n",
       "       'Exterior 1st_BrkFace', 'Exterior 1st_CemntBd', 'Exterior 1st_HdBoard',\n",
       "       'Exterior 1st_MetalSd', 'Exterior 1st_Plywood', 'Exterior 1st_Stucco',\n",
       "       'Exterior 1st_VinylSd', 'Exterior 1st_Wd Sdng', 'Exterior 2nd_AsbShng',\n",
       "       'Exterior 2nd_Brk Cmn', 'Exterior 2nd_CmentBd', 'Exterior 2nd_HdBoard',\n",
       "       'Exterior 2nd_MetalSd', 'Exterior 2nd_Plywood', 'Exterior 2nd_Stucco',\n",
       "       'Exterior 2nd_VinylSd', 'Exterior 2nd_Wd Sdng', 'Heating QC_Ex',\n",
       "       'Heating QC_Gd', 'Heating QC_TA', 'Electrical_FuseA',\n",
       "       'Electrical_FuseF', 'Electrical_SBrkr', 'Kitchen Qual_Ex',\n",
       "       'Kitchen Qual_Fa', 'Kitchen Qual_Gd', 'Kitchen Qual_TA',\n",
       "       'Paved Drive_N', 'Paved Drive_Y', 'Sale Type_New', 'Sale Type_WD ',\n",
       "       'Sale Condition_Normal', 'Sale Condition_Partial'],\n",
       "      dtype='object')"
      ]
     },
     "execution_count": 218,
     "metadata": {},
     "output_type": "execute_result"
    }
   ],
   "source": [
    "all.columns"
   ]
  },
  {
   "cell_type": "code",
   "execution_count": 219,
   "metadata": {},
   "outputs": [],
   "source": [
    "# 使用カラム\n",
    "use_columns = [ 'Garage Cars', 'Overall Qual', 'Year Built',  '1st Flr SF', \\\n",
    "                'Fireplaces','Full Bath', 'Exter Qual', 'MS Zoning_FV', 'MS Zoning_RL',\\\n",
    "                'MS Zoning_RM', 'Land Contour', 'Bldg Type', 'Foundation', 'Central Air', \\\n",
    "                'Neighborhood', 'Gr Liv Area', 'Total Bsmt SF']"
   ]
  },
  {
   "cell_type": "code",
   "execution_count": 220,
   "metadata": {},
   "outputs": [],
   "source": [
    "# allをtrainとtestに分割\n",
    "train = all[~all['SalePrice'].isnull()]\n",
    "test = all[all['SalePrice'].isnull()]"
   ]
  },
  {
   "cell_type": "code",
   "execution_count": 221,
   "metadata": {},
   "outputs": [],
   "source": [
    "train_y = train['SalePrice']\n",
    "train_X = train[use_columns]\n",
    "test_X = test[use_columns]"
   ]
  },
  {
   "cell_type": "code",
   "execution_count": 222,
   "metadata": {},
   "outputs": [
    {
     "name": "stdout",
     "output_type": "stream",
     "text": [
      "<class 'pandas.core.frame.DataFrame'>\n",
      "Index: 2996 entries, 200 to 2732\n",
      "Data columns (total 17 columns):\n",
      " #   Column         Non-Null Count  Dtype  \n",
      "---  ------         --------------  -----  \n",
      " 0   Garage Cars    2996 non-null   float64\n",
      " 1   Overall Qual   2996 non-null   int64  \n",
      " 2   Year Built     2996 non-null   int64  \n",
      " 3   1st Flr SF     2996 non-null   int64  \n",
      " 4   Fireplaces     2996 non-null   int64  \n",
      " 5   Full Bath      2996 non-null   int64  \n",
      " 6   Exter Qual     2996 non-null   int64  \n",
      " 7   MS Zoning_FV   2996 non-null   bool   \n",
      " 8   MS Zoning_RL   2996 non-null   bool   \n",
      " 9   MS Zoning_RM   2996 non-null   bool   \n",
      " 10  Land Contour   2996 non-null   int64  \n",
      " 11  Bldg Type      2996 non-null   int32  \n",
      " 12  Foundation     2996 non-null   int32  \n",
      " 13  Central Air    2996 non-null   int64  \n",
      " 14  Neighborhood   2996 non-null   int32  \n",
      " 15  Gr Liv Area    2996 non-null   int64  \n",
      " 16  Total Bsmt SF  2996 non-null   float64\n",
      "dtypes: bool(3), float64(2), int32(3), int64(9)\n",
      "memory usage: 324.8 KB\n"
     ]
    }
   ],
   "source": [
    "train_X.info()"
   ]
  },
  {
   "cell_type": "code",
   "execution_count": 223,
   "metadata": {},
   "outputs": [
    {
     "name": "stdout",
     "output_type": "stream",
     "text": [
      "[26691.138468207075, 28405.63361423119, 23829.524007538545, 26906.9028180014, 26788.566819155178]\n",
      "26524.353145426674\n"
     ]
    }
   ],
   "source": [
    "# train_X を KFoldで分割、モデル1作成、モデル1の評価\n",
    "kf = KFold(n_splits=5)\n",
    "\n",
    "scores_1 = []\n",
    "for tr_idx, va_idx in kf.split(train_X):\n",
    "    X_train, X_valid = train_X.iloc[tr_idx], train_X.iloc[va_idx]\n",
    "    y_train, y_valid = train_y.iloc[tr_idx], train_y.iloc[va_idx]\n",
    "\n",
    "    model_1 = xgb.XGBRegressor(eta=0.05, n_estimators=310, max_depth=2, learning_rate=0.05,random_state=71, \\\n",
    "                reg_alpha = 0, reg_lambda = 1.4, min_child_weight = 1, colsample_bylevel = 0.7)\n",
    "    model_1.fit(X_train, y_train)\n",
    "\n",
    "    pred_1 = model_1.predict(X_valid)\n",
    "\n",
    "    score_1 = MSE(y_valid, pred_1)**0.5\n",
    "    scores_1.append(score_1)\n",
    "\n",
    "print(scores_1)\n",
    "print(np.mean(scores_1))\n"
   ]
  },
  {
   "cell_type": "code",
   "execution_count": 224,
   "metadata": {},
   "outputs": [
    {
     "name": "stdout",
     "output_type": "stream",
     "text": [
      "[26679.707441109214, 29282.765561397442, 23946.94962129818, 27434.04591032936, 27037.137591462648]\n",
      "26876.121225119365\n"
     ]
    }
   ],
   "source": [
    "# train_X を KFoldで分割、モデル2作成、モデル2の評価\n",
    "kf = KFold(n_splits=5)\n",
    "\n",
    "scores_2 = []\n",
    "for tr_idx, va_idx in kf.split(train_X):\n",
    "    X_train, X_valid = train_X.iloc[tr_idx], train_X.iloc[va_idx]\n",
    "    y_train, y_valid = train_y.iloc[tr_idx], train_y.iloc[va_idx]\n",
    "\n",
    "    model_2 = RandomForestRegressor(n_estimators=310, max_depth=5, random_state=71)\n",
    "    model_2.fit(X_train, y_train)\n",
    "\n",
    "    pred_2 = model_2.predict(X_valid)\n",
    "\n",
    "    score_2 = MSE(y_valid, pred_2)**0.5\n",
    "    scores_2.append(score_2)\n",
    "\n",
    "print(scores_2)\n",
    "print(np.mean(scores_2))\n"
   ]
  },
  {
   "cell_type": "code",
   "execution_count": 225,
   "metadata": {},
   "outputs": [],
   "source": [
    "# 提出データの作成\n",
    "submit = sample.copy()\n",
    "test_pred = ((model_1.predict(test_X)) * 0.80) + ((model_2.predict(test_X)) * 0.20)\n",
    "submit[1] = test_pred"
   ]
  },
  {
   "cell_type": "code",
   "execution_count": 226,
   "metadata": {},
   "outputs": [],
   "source": [
    "submit.to_csv('submit.csv',header=None)"
   ]
  },
  {
   "cell_type": "markdown",
   "metadata": {},
   "source": [
    "model1:model2 = 0.5: 0.5<br>\n",
    "評価結果：26803.45982360082"
   ]
  },
  {
   "cell_type": "markdown",
   "metadata": {},
   "source": [
    "model1:model2 = 0.6: 0.4<br>\n",
    "評価結果：26740.29696501011"
   ]
  },
  {
   "cell_type": "markdown",
   "metadata": {},
   "source": [
    "model1:model2 = 0.75: 0.25<br>\n",
    "評価結果：26706.44422570366"
   ]
  },
  {
   "cell_type": "markdown",
   "metadata": {},
   "source": [
    "model1:model2:model3 = 0.70: 0.15: 0.15<br>\n",
    "評価結果：26690.35142545583"
   ]
  },
  {
   "cell_type": "markdown",
   "metadata": {},
   "source": [
    "model1:model2:model3 = 0.70: 0.20: 0.10<br>\n",
    "評価結果：26681.47431078024"
   ]
  },
  {
   "cell_type": "markdown",
   "metadata": {},
   "source": [
    "model1:model2:model3 = 0.80: 0.10: 0.10<br>\n",
    "評価結果：26718.3720614886"
   ]
  },
  {
   "cell_type": "markdown",
   "metadata": {},
   "source": [
    "model1:model2:model3 = 0.70: 0.20: 0.10<br>\n",
    "評価結果：26668.01405650614"
   ]
  },
  {
   "cell_type": "markdown",
   "metadata": {},
   "source": [
    "model1:model2 = 0.80: 0.20<br>\n",
    "評価結果：26689.26874676767"
   ]
  }
 ],
 "metadata": {
  "kernelspec": {
   "display_name": "py312",
   "language": "python",
   "name": "python3"
  },
  "language_info": {
   "codemirror_mode": {
    "name": "ipython",
    "version": 3
   },
   "file_extension": ".py",
   "mimetype": "text/x-python",
   "name": "python",
   "nbconvert_exporter": "python",
   "pygments_lexer": "ipython3",
   "version": "3.12.0"
  }
 },
 "nbformat": 4,
 "nbformat_minor": 2
}
